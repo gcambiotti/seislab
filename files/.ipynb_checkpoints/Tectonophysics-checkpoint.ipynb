{
 "cells": [
  {
   "cell_type": "code",
   "execution_count": 43,
   "id": "a5448cb2-e27a-4ea6-aecc-ae3e58f88d1d",
   "metadata": {},
   "outputs": [],
   "source": [
    "import numpy as np\n",
    "\n",
    "class Layered_Earth():\n",
    "    \n",
    "    def __init__(self,name,file):\n",
    "        \n",
    "        data = np.loadtxt(file)\n",
    "\n",
    "        self.radii = data[:,0]\n",
    "        self.radii = np.append(0,self.radii)\n",
    "        \n",
    "        self.data = data[:,1:]\n",
    "        \n",
    "        densities = self.data[:,1]\n",
    "        \n",
    "        self.mass = 4*np.pi/3 * densities*(self.radi[1:]**3-self.radi[:-1]**3)\n",
    "        \n",
    "    def make_prop(self,lay,s,rmin=None):\n",
    "        bot = self.radii[lay]\n",
    "        top = self.radii[lay+1]\n",
    "        density, shear, bulk, visco = self.data[lay]\n",
    "        \n",
    "        \n",
    "        "
   ]
  },
  {
   "cell_type": "code",
   "execution_count": 44,
   "id": "72fbb735-62b2-4762-bbae-6415affe7f26",
   "metadata": {},
   "outputs": [],
   "source": [
    "file=\"earth_model.txt\"\n",
    "\n",
    "import numpy as np\n",
    "\n",
    "data = np.loadtxt(file)"
   ]
  },
  {
   "cell_type": "code",
   "execution_count": 45,
   "id": "af74bf7b-67de-40b5-8a93-f8b0dcbc710a",
   "metadata": {},
   "outputs": [
    {
     "name": "stdout",
     "output_type": "stream",
     "text": [
      "[      0. 3480000. 6271000. 6371000.]\n"
     ]
    }
   ],
   "source": [
    "rads = data[:,0]\n",
    "rads = np.append(0,rads)\n",
    "print(rads)"
   ]
  },
  {
   "cell_type": "code",
   "execution_count": 46,
   "id": "0f75d00a-d6d0-49f6-a4ea-ffc1d1135d3a",
   "metadata": {},
   "outputs": [],
   "source": [
    "densities, vps, vss, viscosities = data.T[1:]"
   ]
  },
  {
   "cell_type": "code",
   "execution_count": 47,
   "id": "4097cb71-e732-4515-a722-2e9e2e021ec8",
   "metadata": {},
   "outputs": [],
   "source": [
    "shears = densities * vss**2\n",
    "bulks = densities * (vps**2 + 4/3*vss**2)"
   ]
  },
  {
   "cell_type": "code",
   "execution_count": 48,
   "id": "69b6739c-d788-4c7c-8d52-4f17f6e386c9",
   "metadata": {},
   "outputs": [],
   "source": [
    "density = 5000\n",
    "vp = 8000\n",
    "vs = 5000\n",
    "viscosity = 1e21\n",
    "\n",
    "shear = density * vs**2\n",
    "bulk = density * (vp**2 + 4/3*vs**2)"
   ]
  },
  {
   "cell_type": "code",
   "execution_count": 49,
   "id": "112e64f7-195d-469a-b66e-6e50ac248258",
   "metadata": {},
   "outputs": [
    {
     "name": "stdout",
     "output_type": "stream",
     "text": [
      "253.5047025122316\n"
     ]
    }
   ],
   "source": [
    "maxwell = viscosity/shear\n",
    "year = 365.25*24*3600\n",
    "maxwell /= year\n",
    "print(maxwell)"
   ]
  },
  {
   "cell_type": "code",
   "execution_count": 50,
   "id": "e69a52c6-6b64-4a35-b82c-3f708894be03",
   "metadata": {},
   "outputs": [],
   "source": [
    "gravitational_constant = 6.68e-11\n",
    "c = 4*np.pi*gravitational_constant"
   ]
  },
  {
   "cell_type": "code",
   "execution_count": 51,
   "id": "3634c14e-fcc4-4d90-9631-6ecc9c995f3a",
   "metadata": {},
   "outputs": [],
   "source": [
    "gravity = lambda r: c/3*density*r\n",
    "\n",
    "def eva_YR(r,n,shear):\n",
    "    alpha = density*gravity(r)*r\n",
    "    YR = np.array([  \n",
    "                    [ n*r,                                1/r,                          0], \n",
    "                    [ (n+3)/(n+1)*r,                      1/n/r,                        0], \n",
    "                    [0,                                   0,                            1], \n",
    "                    [ (n+1)*alpha + 2*(n**2+3*n-1)*shear, (alpha + 2*(n-1)*shear)/r**2, density], \n",
    "                    [2*n*(n+2)*shear/(n+1),               2*(n-1)*shear/n/r,            0], \n",
    "                    [c*density*n*r,                       c*density/r,                  (2*n+1)/r]\n",
    "                    ])\n",
    "                                                                 \n",
    "    return YR                                       \n",
    "                                                                 "
   ]
  },
  {
   "cell_type": "code",
   "execution_count": 59,
   "id": "947fae72-e24e-44c9-b0f3-c72bd8ff2ad9",
   "metadata": {},
   "outputs": [],
   "source": [
    "a=63710000\n",
    "load = np.array([1,0,0])"
   ]
  },
  {
   "cell_type": "code",
   "execution_count": 64,
   "id": "b306812b-359b-4e18-8a89-e304567db7f7",
   "metadata": {},
   "outputs": [],
   "source": [
    "N = 100\n",
    "ys = np.zeros((N+1,6))\n",
    "ns = np.arange(N+1)\n",
    "for n in ns[2:]:\n",
    "    YR = eva_YR(a,n,shear)\n",
    "    constants = np.linalg.inv(YR[3:])@load\n",
    "    y = YR @ constants\n",
    "    ys[n] = y"
   ]
  },
  {
   "cell_type": "code",
   "execution_count": 69,
   "id": "7439b67a-7346-44c8-9bd2-5afa87d68255",
   "metadata": {},
   "outputs": [
    {
     "data": {
      "image/png": "[encoded data removed]",
      "text/plain": [
       "<Figure size 640x480 with 3 Axes>"
      ]
     },
     "metadata": {},
     "output_type": "display_data"
    }
   ],
   "source": [
    "import matplotlib.pyplot as plt\n",
    "\n",
    "fig,axes = plt.subplots(3)\n",
    "for k,ax in enumerate(axes):\n",
    "    ax.plot(ns,ys[:,k])"
   ]
  },
  {
   "cell_type": "code",
   "execution_count": 57,
   "id": "d27cf2ac-6664-49b7-b8d7-01a0e34e58d2",
   "metadata": {},
   "outputs": [],
   "source": []
  },
  {
   "cell_type": "code",
   "execution_count": 58,
   "id": "b19fdff2-431e-45c3-8897-d13142a9892c",
   "metadata": {},
   "outputs": [
    {
     "data": {
      "text/plain": [
       "array([ 8.05722529e-07,  4.06869834e-09, -5.37285439e-07,  1.00000000e+00,\n",
       "        2.36551540e-19, -6.96842569e-28])"
      ]
     },
     "execution_count": 58,
     "metadata": {},
     "output_type": "execute_result"
    }
   ],
   "source": []
  },
  {
   "cell_type": "code",
   "execution_count": null,
   "id": "70f6921b-bfbe-476f-ba0a-a381a9ff127c",
   "metadata": {},
   "outputs": [],
   "source": []
  }
 ],
 "metadata": {
  "kernelspec": {
   "display_name": "Python 3 (ipykernel)",
   "language": "python",
   "name": "python3"
  },
  "language_info": {
   "codemirror_mode": {
    "name": "ipython",
    "version": 3
   },
   "file_extension": ".py",
   "mimetype": "text/x-python",
   "name": "python",
   "nbconvert_exporter": "python",
   "pygments_lexer": "ipython3",
   "version": "3.11.0"
  }
 },
 "nbformat": 4,
 "nbformat_minor": 5
}
